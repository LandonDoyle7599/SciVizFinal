{
 "cells": [
  {
   "cell_type": "code",
   "execution_count": 7,
   "id": "3dd471c5-b66b-438b-bb68-aeb4ea972525",
   "metadata": {},
   "outputs": [
    {
     "data": {
      "application/vnd.jupyter.widget-view+json": {
       "model_id": "2081a128bdf544a2850f4df8f497dd6d",
       "version_major": 2,
       "version_minor": 0
      },
      "text/plain": [
       "interactive(children=(IntSlider(value=0, continuous_update=False, description='Manuever Number', max=43), IntS…"
      ]
     },
     "metadata": {},
     "output_type": "display_data"
    },
    {
     "data": {
      "text/plain": [
       "<function __main__.plot_maneuver(step, prev_step_range=0, future_step_range=0)>"
      ]
     },
     "execution_count": 7,
     "metadata": {},
     "output_type": "execute_result"
    }
   ],
   "source": [
    "import pandas as pd\n",
    "import pyvista as pv\n",
    "import numpy as np\n",
    "import ipywidgets as widgets\n",
    "\n",
    "\n",
    "file_path = \"Data/ManeuverPlan.csv\"\n",
    "df = pd.read_csv(file_path)\n",
    "df = df.dropna(subset=['WaypointX', 'WaypointY', 'WaypointZ'])\n",
    "object_positions = np.column_stack((df['WaypointX'], df['WaypointY'], df['WaypointZ']))\n",
    "max_steps = len(object_positions) - 1\n",
    "\n",
    "def plot_maneuver(step, prev_step_range=0, future_step_range=0):\n",
    "    plotter = pv.Plotter(notebook=True)\n",
    "    current_radius = 50\n",
    "    past_radius = 30\n",
    "    future_radius = 30\n",
    "    target_radius = 60\n",
    "\n",
    "    #sphere at the center that represents what we're rendevous'ing with\n",
    "    sphere = pv.Sphere(radius=target_radius, center=(0, 0, 0))\n",
    "    plotter.add_mesh(sphere, color=\"orange\", opacity=0.6)\n",
    "    \n",
    "\n",
    "    #sphere to show current position\n",
    "    x,y,z = object_positions[step]\n",
    "    current_position = object_positions[step]\n",
    "    sphere = pv.Sphere(radius=current_radius, center=(x, y, z))\n",
    "    plotter.add_mesh(sphere, color=\"blue\", opacity=0.6)\n",
    "\n",
    "    #gather past maneuvers\n",
    "    if prev_step_range > 0:\n",
    "        add_mesh=False\n",
    "        past_combined = pv.PolyData()\n",
    "        start_step = step - prev_step_range\n",
    "        start_step = start_step if start_step >= 0 else 0\n",
    "        past_positions = object_positions[start_step:step]\n",
    "        for x, y, z in past_positions:\n",
    "            add_mesh=True\n",
    "            sphere = pv.Sphere(radius=past_radius, center=(x, y, z))\n",
    "            past_combined = past_combined.merge(sphere)\n",
    "        if add_mesh:\n",
    "            plotter.add_mesh(past_combined, color=\"gray\", opacity=0.6)\n",
    "            #lines to connect path\n",
    "            past_path = np.vstack((past_positions, current_position))\n",
    "            lines = pv.lines_from_points(past_path)\n",
    "            plotter.add_mesh(lines, color=\"gray\", line_width=2)\n",
    "\n",
    "    #gather future maneuvers\n",
    "    if future_step_range > 0:\n",
    "        add_mesh=False\n",
    "        future_combined = pv.PolyData()\n",
    "        end_step = step + future_step_range\n",
    "        end_step = end_step if end_step <= max_steps else max_steps\n",
    "        future_positions = object_positions[step+1:end_step+1]\n",
    "        for x, y, z in future_positions:\n",
    "            add_mesh=True\n",
    "            sphere = pv.Sphere(radius=future_radius, center=(x, y, z))\n",
    "            future_combined = future_combined.merge(sphere)\n",
    "        if add_mesh:\n",
    "            plotter.add_mesh(future_combined, color=\"green\", opacity=0.6)\n",
    "            #lines to connect path\n",
    "            future_path = np.vstack((current_position, future_positions))\n",
    "            lines = pv.lines_from_points(future_path)\n",
    "            plotter.add_mesh(lines, color=\"green\", line_width=2)\n",
    "    \n",
    "    plotter.add_axes()\n",
    "    plotter.show()\n",
    "    \n",
    "    \n",
    "\n",
    "maneuver_select = widgets.IntSlider(\n",
    "    value=0,\n",
    "    min=0,\n",
    "    max=max_steps,\n",
    "    step=1.0,\n",
    "    description='Manuever Number',\n",
    "    continuous_update=False\n",
    ")\n",
    "\n",
    "previous_maneuver_select = widgets.IntSlider(\n",
    "    value=0,\n",
    "    min=0,\n",
    "    max=max_steps,\n",
    "    step=1.0,\n",
    "    description='# of Past Maneuvers',\n",
    "    continuous_update=False\n",
    ")\n",
    "\n",
    "future_maneuver_select = widgets.IntSlider(\n",
    "    value=0,\n",
    "    min=0,\n",
    "    max=max_steps,\n",
    "    step=1.0,\n",
    "    description='# of Future Maneuvers',\n",
    "    continuous_update=False\n",
    ")\n",
    "\n",
    "widgets.interact(plot_maneuver, step=maneuver_select, prev_step_range=previous_maneuver_select, future_step_range=future_maneuver_select)\n"
   ]
  },
  {
   "cell_type": "code",
   "execution_count": null,
   "id": "69df3748-9fb1-4387-8946-7adfa066a21b",
   "metadata": {},
   "outputs": [],
   "source": []
  }
 ],
 "metadata": {
  "kernelspec": {
   "display_name": "Python 3 (ipykernel)",
   "language": "python",
   "name": "python3"
  },
  "language_info": {
   "codemirror_mode": {
    "name": "ipython",
    "version": 3
   },
   "file_extension": ".py",
   "mimetype": "text/x-python",
   "name": "python",
   "nbconvert_exporter": "python",
   "pygments_lexer": "ipython3",
   "version": "3.13.1"
  }
 },
 "nbformat": 4,
 "nbformat_minor": 5
}
